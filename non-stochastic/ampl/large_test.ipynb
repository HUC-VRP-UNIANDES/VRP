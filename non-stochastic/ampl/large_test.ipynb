{
 "cells": [
  {
   "cell_type": "code",
   "execution_count": 32,
   "metadata": {},
   "outputs": [],
   "source": [
    "def read_lines_from_section(file_path, section_title):\n",
    "    lines = []\n",
    "    in_section = False\n",
    "\n",
    "    with open(file_path, 'r') as file:\n",
    "        for line in file:\n",
    "            line = line.strip()\n",
    "            if line == section_title:\n",
    "                in_section = True\n",
    "            if line == \"#\":\n",
    "                in_section = False\n",
    "            elif line.startswith(\"EOF\"):\n",
    "                break\n",
    "            elif in_section:\n",
    "                lines.append(line)\n",
    "\n",
    "    return lines"
   ]
  },
  {
   "cell_type": "code",
   "execution_count": 35,
   "metadata": {},
   "outputs": [],
   "source": [
    "file_path = r\"C:\\Users\\esteb\\OneDrive - Universidad de los Andes\\Documentos\\ANDES\\Septimo Semestre\\HUC\\VRP\\non-stochastic\\ampl\\test\\BHR101A.txt\"\n",
    "section_title = \"DEMAND_SECTION\"\n",
    "node_section = read_lines_from_section(file_path, section_title)[1:]"
   ]
  },
  {
   "cell_type": "code",
   "execution_count": 38,
   "metadata": {},
   "outputs": [],
   "source": [
    "for i in range(len(node_section)):\n",
    "    splitted = node_section[i].split()\n",
    "    node_section[i] = splitted[1] + \" \" + str(int(1.5*float(splitted[1]))) + \" \" + \"1\""
   ]
  },
  {
   "cell_type": "code",
   "execution_count": 40,
   "metadata": {},
   "outputs": [],
   "source": [
    "tw_section = read_lines_from_section(file_path, \"TIME_WINDOW_SECTION\")[1:]"
   ]
  },
  {
   "cell_type": "code",
   "execution_count": 42,
   "metadata": {},
   "outputs": [],
   "source": [
    "for i in range(len(tw_section)):\n",
    "    splitted = tw_section[i].split()\n",
    "    node_section[i] = splitted[0] + \" \" + splitted[1] + \" \"+ splitted[1] + \" \" + node_section[i]"
   ]
  },
  {
   "cell_type": "code",
   "execution_count": 43,
   "metadata": {},
   "outputs": [],
   "source": [
    "vehicle_section = [ str(i+1)+ \" 200 100\" for i in range(22)]"
   ]
  },
  {
   "cell_type": "code",
   "execution_count": 45,
   "metadata": {},
   "outputs": [],
   "source": [
    "coord_section = read_lines_from_section(file_path, \"NODE_COORD_SECTION\")[1:]"
   ]
  },
  {
   "cell_type": "code",
   "execution_count": 64,
   "metadata": {},
   "outputs": [],
   "source": [
    "edge_section = []\n",
    "for i in range(len(coord_section)):\n",
    "    for j in range(len(coord_section)):\n",
    "        if i!=j:\n",
    "            splitted_i = coord_section[i].split()\n",
    "            splitted_j = coord_section[j].split()\n",
    "            distance = round(((float(splitted_i[1])-float(splitted_j[1]))**2+(float(splitted_i[2])-float(splitted_j[2]))**2)**(1/2),2)\n",
    "            time = round(distance/5,2)\n",
    "            edge_section.append(splitted_i[0] + \" \" + splitted_j[0] + \" \" \n",
    "                                + str(distance)\n",
    "                                + \" \"\n",
    "                                + str(time)\n",
    "                                )"
   ]
  },
  {
   "cell_type": "code",
   "execution_count": 65,
   "metadata": {},
   "outputs": [
    {
     "data": {
      "text/plain": [
       "'2 1 15.23 3.05'"
      ]
     },
     "execution_count": 65,
     "metadata": {},
     "output_type": "execute_result"
    }
   ],
   "source": [
    "edge_section[100]"
   ]
  },
  {
   "cell_type": "code",
   "execution_count": 67,
   "metadata": {},
   "outputs": [],
   "source": [
    "sections_and_lines = [\n",
    "    (\"VEHICLE_SECTION\", vehicle_section),\n",
    "    (\"NODES_SECTION\", node_section),\n",
    "    (\"EDGE_SECTION\", edge_section),\n",
    "]"
   ]
  },
  {
   "cell_type": "code",
   "execution_count": 68,
   "metadata": {},
   "outputs": [],
   "source": [
    "def write_sections_to_file(section_lines_list, filename):\n",
    "    try:\n",
    "        # Open the file for writing\n",
    "        with open(filename, 'w') as file:\n",
    "            for section, lines in section_lines_list:\n",
    "                # Write the section title\n",
    "                file.write(f\"{section}\\n\")\n",
    "                \n",
    "                # Write the lines for the section\n",
    "                for line in lines:\n",
    "                    file.write(f\"{line}\\n\")\n",
    "                \n",
    "                # Add a separator line between sections\n",
    "                file.write(\"\\n\")\n",
    "        \n",
    "        print(f\"File '{filename}' has been successfully created.\")\n",
    "    except Exception as e:\n",
    "        print(f\"An error occurred: {str(e)}\")"
   ]
  },
  {
   "cell_type": "code",
   "execution_count": 69,
   "metadata": {},
   "outputs": [
    {
     "name": "stdout",
     "output_type": "stream",
     "text": [
      "File 'output.txt' has been successfully created.\n"
     ]
    }
   ],
   "source": [
    "write_sections_to_file(sections_and_lines, \"output.txt\")"
   ]
  }
 ],
 "metadata": {
  "kernelspec": {
   "display_name": "venv",
   "language": "python",
   "name": "python3"
  },
  "language_info": {
   "codemirror_mode": {
    "name": "ipython",
    "version": 3
   },
   "file_extension": ".py",
   "mimetype": "text/x-python",
   "name": "python",
   "nbconvert_exporter": "python",
   "pygments_lexer": "ipython3",
   "version": "3.11.5"
  },
  "orig_nbformat": 4
 },
 "nbformat": 4,
 "nbformat_minor": 2
}
