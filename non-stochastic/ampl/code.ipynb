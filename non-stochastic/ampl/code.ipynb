{
 "cells": [
  {
   "cell_type": "markdown",
   "metadata": {},
   "source": [
    "<h1>Vehicle Routing Problem</h1>"
   ]
  },
  {
   "cell_type": "code",
   "execution_count": null,
   "metadata": {},
   "outputs": [],
   "source": [
    "from amplpy import AMPL"
   ]
  },
  {
   "cell_type": "markdown",
   "metadata": {},
   "source": [
    "Structure of the Files:\n",
    "\n",
    "$|K|$\n",
    "\n",
    "$U_{k}$\n",
    "\n",
    "NODES_SECTION\n",
    "\n",
    "$i$ $x_{i}$ $y_{i}$ $a_{i}$  $b_{i}$  $s_{i}$  $d_{i}^{B}$  $d_{i}^{L}$"
   ]
  },
  {
   "cell_type": "markdown",
   "metadata": {},
   "source": [
    "$\\forall k\\in K,  \\forall j \\in V \\backslash \\{0\\}: M (1-x_{ijk}) + I_{jk} - d^{L}_j \\geq 0$"
   ]
  },
  {
   "cell_type": "markdown",
   "metadata": {},
   "source": []
  }
 ],
 "metadata": {
  "kernelspec": {
   "display_name": ".venv",
   "language": "python",
   "name": "python3"
  },
  "language_info": {
   "name": "python",
   "version": "3.11.5"
  },
  "orig_nbformat": 4
 },
 "nbformat": 4,
 "nbformat_minor": 2
}
