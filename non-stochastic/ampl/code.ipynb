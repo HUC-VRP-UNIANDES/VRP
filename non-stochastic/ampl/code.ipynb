{
 "cells": [
  {
   "cell_type": "markdown",
   "metadata": {},
   "source": [
    "<h1>Vehicle Routing Problem</h1>"
   ]
  },
  {
   "cell_type": "code",
   "execution_count": 1,
   "metadata": {},
   "outputs": [],
   "source": [
    "from amplpy import AMPL, Constraint, DataFrame\n",
    "from easygui import fileopenbox\n",
    "from itertools import product\n",
    "import pandas as pd"
   ]
  },
  {
   "cell_type": "markdown",
   "metadata": {},
   "source": [
    "<h2>Structure of the Files </h2>\n",
    "\n",
    "MAX_TIME  $T_{max}$\n",
    "\n",
    "VEHICLE_SECTION\n",
    "\n",
    "$k$ $U_{k}$ $C_{k}$\n",
    "\n",
    "NODES_SECTION\n",
    "\n",
    "$i$ $x_{i}$ $y_{i}$ $a_{i}$  $b_{i}$  $s_{i}$  $d_{i}^{B}$  $d_{i}^{L}$"
   ]
  },
  {
   "cell_type": "code",
   "execution_count": 2,
   "metadata": {},
   "outputs": [],
   "source": [
    "file_path = fileopenbox()\n",
    "file = open(file_path)\n",
    "\n",
    "read_type = \"\"\n",
    "\n",
    "T_max = 0\n",
    "VCapacity = {}\n",
    "VCost = {}\n",
    "NLocation = {}\n",
    "NTimeFrame = {}\n",
    "NServiceTime = {}\n",
    "NLinehaulDemand = {}\n",
    "NBackhaulDemand = {}\n",
    "\n",
    "for line in file.readlines():\n",
    "    line = line.replace(\"\\n\",\"\").strip()\n",
    "    parts = line.split(\" \")\n",
    "    if parts[0] == \"MAX_TIME\":\n",
    "        T_max = float(parts[1])\n",
    "    elif parts[0] == \"VEHICLE_SECTION\":\n",
    "        read_type = \"VEHICLE_SECTION\"\n",
    "    elif parts[0] == \"NODE_SECTION\":\n",
    "        read_type = \"NODE_SECTION\"\n",
    "    elif read_type == \"VEHICLE_SECTION\":\n",
    "        k, U_k, C_k = parts\n",
    "        VCapacity[int(k)] = float(U_k)\n",
    "        VCost[int(k)] = float(C_k) \n",
    "    elif read_type == \"NODE_SECTION\":\n",
    "        i, x_i, y_i, a_i, b_i, s_i, d_i_B, d_i_L = parts\n",
    "        NLocation[int(i)] = (float(x_i),float(y_i))\n",
    "        NTimeFrame[int(i)] = (float(a_i),float(b_i))\n",
    "        NServiceTime[int(i)] = float(s_i)\n",
    "        NLinehaulDemand[int(i)] = float(d_i_L)\n",
    "        NBackhaulDemand[int(i)] = float(d_i_B)\n",
    "        \n",
    "\n",
    "file.close()"
   ]
  },
  {
   "cell_type": "code",
   "execution_count": 3,
   "metadata": {},
   "outputs": [],
   "source": [
    "def L2dist(a1, a2):\n",
    "    return ((a1[0] - a2[0]) ** 2 + (a1[1]-a2[1]) ** 2) ** 0.5\n",
    "\n",
    "ECost = {(i,j): L2dist(NLocation[i],NLocation[j]) for i,j in product(NLocation, NLocation)}\n",
    "ETime = ECost.copy()\n",
    "    "
   ]
  },
  {
   "cell_type": "code",
   "execution_count": 24,
   "metadata": {},
   "outputs": [
    {
     "name": "stdout",
     "output_type": "stream",
     "text": [
      "Gurobi 10.0.2:Gurobi 10.0.2: optimal solution; objective 289.4427191\n",
      "0 simplex iterations\n",
      " \n"
     ]
    }
   ],
   "source": [
    "ampl = AMPL()\n",
    "\n",
    "ampl.read(\"model.mod\")\n",
    "\n",
    "ampl.set[\"V\"] = NServiceTime.keys()\n",
    "ampl.set[\"warehouse\"] = [0]\n",
    "ampl.set[\"K\"] = VCapacity.keys()\n",
    "\n",
    "ampl.get_parameter(\"Tmax\").set(T_max)\n",
    "ampl.get_parameter(\"U\").set_values(VCapacity)\n",
    "ampl.get_parameter(\"CV\").set_values(VCost)\n",
    "ampl.get_parameter(\"t\").set_values(ETime)\n",
    "ampl.get_parameter(\"C\").set_values(ECost)\n",
    "ampl.get_parameter(\"a\").set_values({k: NTimeFrame[k][0] for k in NTimeFrame})\n",
    "ampl.get_parameter(\"b\").set_values({k: NTimeFrame[k][1] for k in NTimeFrame})\n",
    "ampl.get_parameter(\"s\").set_values(NServiceTime)\n",
    "ampl.get_parameter(\"dB\").set_values(NBackhaulDemand)\n",
    "ampl.get_parameter(\"dL\").set_values(NLinehaulDemand)\n",
    "ampl.get_parameter(\"M\").set(10 ** 6)\n",
    "\n",
    "ampl.option[\"solver\"] = \"gurobi\"\n",
    "ampl.solve()"
   ]
  },
  {
   "cell_type": "code",
   "execution_count": 25,
   "metadata": {},
   "outputs": [
    {
     "data": {
      "text/html": [
       "<div>\n",
       "<style scoped>\n",
       "    .dataframe tbody tr th:only-of-type {\n",
       "        vertical-align: middle;\n",
       "    }\n",
       "\n",
       "    .dataframe tbody tr th {\n",
       "        vertical-align: top;\n",
       "    }\n",
       "\n",
       "    .dataframe thead th {\n",
       "        text-align: right;\n",
       "    }\n",
       "</style>\n",
       "<table border=\"1\" class=\"dataframe\">\n",
       "  <thead>\n",
       "    <tr style=\"text-align: right;\">\n",
       "      <th></th>\n",
       "      <th></th>\n",
       "      <th></th>\n",
       "      <th>x.val</th>\n",
       "    </tr>\n",
       "    <tr>\n",
       "      <th>index0</th>\n",
       "      <th>index1</th>\n",
       "      <th>index2</th>\n",
       "      <th></th>\n",
       "    </tr>\n",
       "  </thead>\n",
       "  <tbody>\n",
       "    <tr>\n",
       "      <th rowspan=\"3\" valign=\"top\">0</th>\n",
       "      <th>0</th>\n",
       "      <th>1</th>\n",
       "      <td>0</td>\n",
       "    </tr>\n",
       "    <tr>\n",
       "      <th>1</th>\n",
       "      <th>1</th>\n",
       "      <td>1</td>\n",
       "    </tr>\n",
       "    <tr>\n",
       "      <th>2</th>\n",
       "      <th>1</th>\n",
       "      <td>0</td>\n",
       "    </tr>\n",
       "    <tr>\n",
       "      <th rowspan=\"3\" valign=\"top\">1</th>\n",
       "      <th>0</th>\n",
       "      <th>1</th>\n",
       "      <td>0</td>\n",
       "    </tr>\n",
       "    <tr>\n",
       "      <th>1</th>\n",
       "      <th>1</th>\n",
       "      <td>0</td>\n",
       "    </tr>\n",
       "    <tr>\n",
       "      <th>2</th>\n",
       "      <th>1</th>\n",
       "      <td>1</td>\n",
       "    </tr>\n",
       "    <tr>\n",
       "      <th rowspan=\"3\" valign=\"top\">2</th>\n",
       "      <th>0</th>\n",
       "      <th>1</th>\n",
       "      <td>1</td>\n",
       "    </tr>\n",
       "    <tr>\n",
       "      <th>1</th>\n",
       "      <th>1</th>\n",
       "      <td>0</td>\n",
       "    </tr>\n",
       "    <tr>\n",
       "      <th>2</th>\n",
       "      <th>1</th>\n",
       "      <td>0</td>\n",
       "    </tr>\n",
       "  </tbody>\n",
       "</table>\n",
       "</div>"
      ],
      "text/plain": [
       "                      x.val\n",
       "index0 index1 index2       \n",
       "0      0      1           0\n",
       "       1      1           1\n",
       "       2      1           0\n",
       "1      0      1           0\n",
       "       1      1           0\n",
       "       2      1           1\n",
       "2      0      1           1\n",
       "       1      1           0\n",
       "       2      1           0"
      ]
     },
     "execution_count": 25,
     "metadata": {},
     "output_type": "execute_result"
    }
   ],
   "source": [
    "ampl.get_variable(\"x\").get_values().to_pandas()"
   ]
  },
  {
   "cell_type": "code",
   "execution_count": 26,
   "metadata": {},
   "outputs": [
    {
     "data": {
      "text/html": [
       "<div>\n",
       "<style scoped>\n",
       "    .dataframe tbody tr th:only-of-type {\n",
       "        vertical-align: middle;\n",
       "    }\n",
       "\n",
       "    .dataframe tbody tr th {\n",
       "        vertical-align: top;\n",
       "    }\n",
       "\n",
       "    .dataframe thead th {\n",
       "        text-align: right;\n",
       "    }\n",
       "</style>\n",
       "<table border=\"1\" class=\"dataframe\">\n",
       "  <thead>\n",
       "    <tr style=\"text-align: right;\">\n",
       "      <th></th>\n",
       "      <th></th>\n",
       "      <th>I.val</th>\n",
       "    </tr>\n",
       "    <tr>\n",
       "      <th>index0</th>\n",
       "      <th>index1</th>\n",
       "      <th></th>\n",
       "    </tr>\n",
       "  </thead>\n",
       "  <tbody>\n",
       "    <tr>\n",
       "      <th>0</th>\n",
       "      <th>1</th>\n",
       "      <td>0</td>\n",
       "    </tr>\n",
       "    <tr>\n",
       "      <th>1</th>\n",
       "      <th>1</th>\n",
       "      <td>100</td>\n",
       "    </tr>\n",
       "    <tr>\n",
       "      <th>2</th>\n",
       "      <th>1</th>\n",
       "      <td>50</td>\n",
       "    </tr>\n",
       "  </tbody>\n",
       "</table>\n",
       "</div>"
      ],
      "text/plain": [
       "               I.val\n",
       "index0 index1       \n",
       "0      1           0\n",
       "1      1         100\n",
       "2      1          50"
      ]
     },
     "execution_count": 26,
     "metadata": {},
     "output_type": "execute_result"
    }
   ],
   "source": [
    "ampl.get_variable(\"I\").get_values().to_pandas()"
   ]
  },
  {
   "cell_type": "code",
   "execution_count": null,
   "metadata": {},
   "outputs": [],
   "source": []
  }
 ],
 "metadata": {
  "kernelspec": {
   "display_name": ".venv",
   "language": "python",
   "name": "python3"
  },
  "language_info": {
   "codemirror_mode": {
    "name": "ipython",
    "version": 3
   },
   "file_extension": ".py",
   "mimetype": "text/x-python",
   "name": "python",
   "nbconvert_exporter": "python",
   "pygments_lexer": "ipython3",
   "version": "3.11.5"
  },
  "orig_nbformat": 4
 },
 "nbformat": 4,
 "nbformat_minor": 2
}
